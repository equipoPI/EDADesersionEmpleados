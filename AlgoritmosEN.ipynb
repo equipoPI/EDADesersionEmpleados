{
 "cells": [
  {
   "cell_type": "markdown",
   "metadata": {},
   "source": [
    "#  Creacion de algoritmos y normalizacion de datos/parametros"
   ]
  },
  {
   "cell_type": "markdown",
   "metadata": {},
   "source": [
    "### Datos del csv original"
   ]
  },
  {
   "cell_type": "code",
   "execution_count": 1,
   "metadata": {},
   "outputs": [
    {
     "name": "stdout",
     "output_type": "stream",
     "text": [
      "<class 'pandas.core.frame.DataFrame'>\n",
      "RangeIndex: 62768 entries, 0 to 62767\n",
      "Data columns (total 24 columns):\n",
      " #   Column                        Non-Null Count  Dtype \n",
      "---  ------                        --------------  ----- \n",
      " 0   ID Empleado                   62768 non-null  int64 \n",
      " 1   Edad                          62768 non-null  int64 \n",
      " 2   Género                        62768 non-null  object\n",
      " 3   Antigüedad en la Empresa      62768 non-null  int64 \n",
      " 4   Rol de Trabajo                62768 non-null  object\n",
      " 5   Ingreso Mensual               62768 non-null  int64 \n",
      " 6   Balance Trabajo-Vida          62768 non-null  object\n",
      " 7   Satisfacción del Trabajo      62768 non-null  object\n",
      " 8   Desempeño                     62768 non-null  object\n",
      " 9   Número de Promociones         62768 non-null  int64 \n",
      " 10  Horas Extras                  62768 non-null  object\n",
      " 11  Distancia a Casa              62768 non-null  int64 \n",
      " 12  Nivel de Educación            62768 non-null  object\n",
      " 13  Estado Civil                  62768 non-null  object\n",
      " 14  Número de Dependientes        62768 non-null  int64 \n",
      " 15  Nivel de Trabajo              62768 non-null  object\n",
      " 16  Tamaño de Empresa             62768 non-null  object\n",
      " 17  Meses desde el último evento  62768 non-null  int64 \n",
      " 18  Trabajo Remoto                62768 non-null  object\n",
      " 19  Oportunidades de Liderazgo    62768 non-null  object\n",
      " 20  Oportunidades de Innovación   62768 non-null  object\n",
      " 21  Reputación de la Empresa      62768 non-null  object\n",
      " 22  Reconocimiento a Empleado     62768 non-null  object\n",
      " 23  Deserción                     62768 non-null  object\n",
      "dtypes: int64(8), object(16)\n",
      "memory usage: 11.5+ MB\n"
     ]
    }
   ],
   "source": [
    "import pandas as pd\n",
    "import matplotlib.pyplot as plt\n",
    "import seaborn as sns\n",
    "\n",
    "archivo = 'archivo_combinado.csv'\n",
    "df = pd.read_csv(archivo)\n",
    "df.info()"
   ]
  },
  {
   "cell_type": "markdown",
   "metadata": {},
   "source": [
    "### Cambio de variables categoricas a numericas y generacion de nuevo .csv"
   ]
  },
  {
   "cell_type": "code",
   "execution_count": 8,
   "metadata": {},
   "outputs": [
    {
     "name": "stderr",
     "output_type": "stream",
     "text": [
      "C:\\Users\\Juan\\AppData\\Local\\Temp\\ipykernel_20808\\652988206.py:42: FutureWarning: Downcasting behavior in `replace` is deprecated and will be removed in a future version. To retain the old behavior, explicitly call `result.infer_objects(copy=False)`. To opt-in to the future behavior, set `pd.set_option('future.no_silent_downcasting', True)`\n",
      "  df[column] = df[column].replace(mapping).fillna(fill_value).astype(int)\n",
      "C:\\Users\\Juan\\AppData\\Local\\Temp\\ipykernel_20808\\652988206.py:42: FutureWarning: Downcasting behavior in `replace` is deprecated and will be removed in a future version. To retain the old behavior, explicitly call `result.infer_objects(copy=False)`. To opt-in to the future behavior, set `pd.set_option('future.no_silent_downcasting', True)`\n",
      "  df[column] = df[column].replace(mapping).fillna(fill_value).astype(int)\n",
      "C:\\Users\\Juan\\AppData\\Local\\Temp\\ipykernel_20808\\652988206.py:42: FutureWarning: Downcasting behavior in `replace` is deprecated and will be removed in a future version. To retain the old behavior, explicitly call `result.infer_objects(copy=False)`. To opt-in to the future behavior, set `pd.set_option('future.no_silent_downcasting', True)`\n",
      "  df[column] = df[column].replace(mapping).fillna(fill_value).astype(int)\n",
      "C:\\Users\\Juan\\AppData\\Local\\Temp\\ipykernel_20808\\652988206.py:42: FutureWarning: Downcasting behavior in `replace` is deprecated and will be removed in a future version. To retain the old behavior, explicitly call `result.infer_objects(copy=False)`. To opt-in to the future behavior, set `pd.set_option('future.no_silent_downcasting', True)`\n",
      "  df[column] = df[column].replace(mapping).fillna(fill_value).astype(int)\n",
      "C:\\Users\\Juan\\AppData\\Local\\Temp\\ipykernel_20808\\652988206.py:42: FutureWarning: Downcasting behavior in `replace` is deprecated and will be removed in a future version. To retain the old behavior, explicitly call `result.infer_objects(copy=False)`. To opt-in to the future behavior, set `pd.set_option('future.no_silent_downcasting', True)`\n",
      "  df[column] = df[column].replace(mapping).fillna(fill_value).astype(int)\n",
      "C:\\Users\\Juan\\AppData\\Local\\Temp\\ipykernel_20808\\652988206.py:42: FutureWarning: Downcasting behavior in `replace` is deprecated and will be removed in a future version. To retain the old behavior, explicitly call `result.infer_objects(copy=False)`. To opt-in to the future behavior, set `pd.set_option('future.no_silent_downcasting', True)`\n",
      "  df[column] = df[column].replace(mapping).fillna(fill_value).astype(int)\n",
      "C:\\Users\\Juan\\AppData\\Local\\Temp\\ipykernel_20808\\652988206.py:42: FutureWarning: Downcasting behavior in `replace` is deprecated and will be removed in a future version. To retain the old behavior, explicitly call `result.infer_objects(copy=False)`. To opt-in to the future behavior, set `pd.set_option('future.no_silent_downcasting', True)`\n",
      "  df[column] = df[column].replace(mapping).fillna(fill_value).astype(int)\n",
      "C:\\Users\\Juan\\AppData\\Local\\Temp\\ipykernel_20808\\652988206.py:42: FutureWarning: Downcasting behavior in `replace` is deprecated and will be removed in a future version. To retain the old behavior, explicitly call `result.infer_objects(copy=False)`. To opt-in to the future behavior, set `pd.set_option('future.no_silent_downcasting', True)`\n",
      "  df[column] = df[column].replace(mapping).fillna(fill_value).astype(int)\n",
      "C:\\Users\\Juan\\AppData\\Local\\Temp\\ipykernel_20808\\652988206.py:42: FutureWarning: Downcasting behavior in `replace` is deprecated and will be removed in a future version. To retain the old behavior, explicitly call `result.infer_objects(copy=False)`. To opt-in to the future behavior, set `pd.set_option('future.no_silent_downcasting', True)`\n",
      "  df[column] = df[column].replace(mapping).fillna(fill_value).astype(int)\n",
      "C:\\Users\\Juan\\AppData\\Local\\Temp\\ipykernel_20808\\652988206.py:42: FutureWarning: Downcasting behavior in `replace` is deprecated and will be removed in a future version. To retain the old behavior, explicitly call `result.infer_objects(copy=False)`. To opt-in to the future behavior, set `pd.set_option('future.no_silent_downcasting', True)`\n",
      "  df[column] = df[column].replace(mapping).fillna(fill_value).astype(int)\n",
      "C:\\Users\\Juan\\AppData\\Local\\Temp\\ipykernel_20808\\652988206.py:42: FutureWarning: Downcasting behavior in `replace` is deprecated and will be removed in a future version. To retain the old behavior, explicitly call `result.infer_objects(copy=False)`. To opt-in to the future behavior, set `pd.set_option('future.no_silent_downcasting', True)`\n",
      "  df[column] = df[column].replace(mapping).fillna(fill_value).astype(int)\n",
      "C:\\Users\\Juan\\AppData\\Local\\Temp\\ipykernel_20808\\652988206.py:42: FutureWarning: Downcasting behavior in `replace` is deprecated and will be removed in a future version. To retain the old behavior, explicitly call `result.infer_objects(copy=False)`. To opt-in to the future behavior, set `pd.set_option('future.no_silent_downcasting', True)`\n",
      "  df[column] = df[column].replace(mapping).fillna(fill_value).astype(int)\n",
      "C:\\Users\\Juan\\AppData\\Local\\Temp\\ipykernel_20808\\652988206.py:42: FutureWarning: Downcasting behavior in `replace` is deprecated and will be removed in a future version. To retain the old behavior, explicitly call `result.infer_objects(copy=False)`. To opt-in to the future behavior, set `pd.set_option('future.no_silent_downcasting', True)`\n",
      "  df[column] = df[column].replace(mapping).fillna(fill_value).astype(int)\n",
      "C:\\Users\\Juan\\AppData\\Local\\Temp\\ipykernel_20808\\652988206.py:42: FutureWarning: Downcasting behavior in `replace` is deprecated and will be removed in a future version. To retain the old behavior, explicitly call `result.infer_objects(copy=False)`. To opt-in to the future behavior, set `pd.set_option('future.no_silent_downcasting', True)`\n",
      "  df[column] = df[column].replace(mapping).fillna(fill_value).astype(int)\n",
      "C:\\Users\\Juan\\AppData\\Local\\Temp\\ipykernel_20808\\652988206.py:42: FutureWarning: Downcasting behavior in `replace` is deprecated and will be removed in a future version. To retain the old behavior, explicitly call `result.infer_objects(copy=False)`. To opt-in to the future behavior, set `pd.set_option('future.no_silent_downcasting', True)`\n",
      "  df[column] = df[column].replace(mapping).fillna(fill_value).astype(int)\n",
      "C:\\Users\\Juan\\AppData\\Local\\Temp\\ipykernel_20808\\652988206.py:42: FutureWarning: Downcasting behavior in `replace` is deprecated and will be removed in a future version. To retain the old behavior, explicitly call `result.infer_objects(copy=False)`. To opt-in to the future behavior, set `pd.set_option('future.no_silent_downcasting', True)`\n",
      "  df[column] = df[column].replace(mapping).fillna(fill_value).astype(int)\n"
     ]
    },
    {
     "name": "stdout",
     "output_type": "stream",
     "text": [
      "Conversión completada.\n"
     ]
    }
   ],
   "source": [
    "# Importar las bibliotecas necesarias\n",
    "import pandas as pd\n",
    "\n",
    "# Diccionarios de mapeo para la conversión\n",
    "gender_mapping = {'Male': 0, 'Female': 1}\n",
    "balance_mapping = {'Poor': 0, 'Fair': 1, 'Good': 2, 'Excellent': 3}\n",
    "performance_mapping = {'Low': 0, 'Below Average': 1, 'Average': 2, 'High': 3}\n",
    "education_mapping = {\n",
    "    'High School': 0, \n",
    "    'Associate Degree': 1, \n",
    "    'Bachelor’s Degree': 2, \n",
    "    'Master’s Degree': 3, \n",
    "    'PhD': 4\n",
    "}\n",
    "marital_status_mapping = {'Divorced': 0, 'Married': 1, 'Single': 2}\n",
    "job_level_mapping = {'Mid': 0, 'Entry': 1, 'Senior': 2}\n",
    "company_size_mapping = {'Medium': 0, 'Small': 1, 'Large': 2}\n",
    "remote_work_mapping = {'Yes': 1, 'No': 0}\n",
    "leadership_opportunity_mapping = {'Yes': 1, 'No': 0}\n",
    "innovation_opportunity_mapping = {'Yes': 1, 'No': 0}\n",
    "reputation_mapping = {'Fair': 0, 'Good': 1, 'Excellent': 2, 'Poor': 3}\n",
    "recognition_mapping = {'Low': 0, 'Medium': 1, 'High': 2, 'Very High': 3}\n",
    "role_mapping = {\n",
    "    'Media': 0, 'Education': 1, 'Technology': 2, 'Finance': 3, \n",
    "    'Healthcare': 4, 'Sales Executive': 5, 'Manager': 6, 'Research Director': 7,\n",
    "    'Sales Representative': 8, 'Laboratory Technician': 9, 'Research Scientist': 10,\n",
    "    'Manufacturing Director': 11, 'Healthcare Representative': 12, 'Human Resources': 13\n",
    "}\n",
    "overtime_mapping = {'Yes': 1, 'No': 0}\n",
    "satisfaction_mapping = {'Low': 0, 'Medium': 1, 'High': 2, 'Very High': 3}\n",
    "resignation_mapping = {'Stayed': 0, 'Left': 1}\n",
    "\n",
    "# Función para verificar y mapear valores sólo si la columna no es numérica\n",
    "def safe_replace(df, column, mapping, fill_value=-1):\n",
    "    if not pd.api.types.is_numeric_dtype(df[column]):\n",
    "        # Imprime los valores no mapeados si existen\n",
    "        unique_values = df[column].unique()\n",
    "        invalid_values = [val for val in unique_values if val not in mapping]\n",
    "        if invalid_values:\n",
    "            print(f\"Valores no mapeados en '{column}':\", invalid_values)\n",
    "        # Reemplaza los valores y maneja NaN con fill_value\n",
    "        df[column] = df[column].replace(mapping).fillna(fill_value).astype(int)\n",
    "    else:\n",
    "        print(f\"La columna '{column}' ya está en formato numérico.\")\n",
    "\n",
    "# Aplicar el mapeo y la conversión de datos\n",
    "safe_replace(df, 'Género', gender_mapping)\n",
    "safe_replace(df, 'Balance Trabajo-Vida', balance_mapping)\n",
    "safe_replace(df, 'Desempeño', performance_mapping)\n",
    "safe_replace(df, 'Nivel de Educación', education_mapping)\n",
    "safe_replace(df, 'Estado Civil', marital_status_mapping)\n",
    "safe_replace(df, 'Nivel de Trabajo', job_level_mapping)\n",
    "safe_replace(df, 'Tamaño de Empresa', company_size_mapping)\n",
    "safe_replace(df, 'Trabajo Remoto', remote_work_mapping)\n",
    "safe_replace(df, 'Oportunidades de Liderazgo', leadership_opportunity_mapping)\n",
    "safe_replace(df, 'Oportunidades de Innovación', innovation_opportunity_mapping)\n",
    "safe_replace(df, 'Reputación de la Empresa', reputation_mapping)\n",
    "safe_replace(df, 'Reconocimiento a Empleado', recognition_mapping)\n",
    "safe_replace(df, 'Rol de Trabajo', role_mapping)\n",
    "safe_replace(df, 'Horas Extras', overtime_mapping)\n",
    "safe_replace(df, 'Satisfacción del Trabajo', satisfaction_mapping)\n",
    "safe_replace(df, 'Deserción', resignation_mapping)\n",
    "\n",
    "print(\"Conversión completada.\")\n",
    "\n",
    "# Guardar el DataFrame resultante en un archivo CSV\n",
    "df.to_csv('archivo_int64.csv', index=False)\n"
   ]
  },
  {
   "cell_type": "code",
   "execution_count": 1,
   "metadata": {},
   "outputs": [
    {
     "name": "stdout",
     "output_type": "stream",
     "text": [
      "<class 'pandas.core.frame.DataFrame'>\n",
      "RangeIndex: 62768 entries, 0 to 62767\n",
      "Data columns (total 24 columns):\n",
      " #   Column                        Non-Null Count  Dtype\n",
      "---  ------                        --------------  -----\n",
      " 0   ID Empleado                   62768 non-null  int64\n",
      " 1   Edad                          62768 non-null  int64\n",
      " 2   Género                        62768 non-null  int64\n",
      " 3   Antigüedad en la Empresa      62768 non-null  int64\n",
      " 4   Rol de Trabajo                62768 non-null  int64\n",
      " 5   Ingreso Mensual               62768 non-null  int64\n",
      " 6   Balance Trabajo-Vida          62768 non-null  int64\n",
      " 7   Satisfacción del Trabajo      62768 non-null  int64\n",
      " 8   Desempeño                     62768 non-null  int64\n",
      " 9   Número de Promociones         62768 non-null  int64\n",
      " 10  Horas Extras                  62768 non-null  int64\n",
      " 11  Distancia a Casa              62768 non-null  int64\n",
      " 12  Nivel de Educación            62768 non-null  int64\n",
      " 13  Estado Civil                  62768 non-null  int64\n",
      " 14  Número de Dependientes        62768 non-null  int64\n",
      " 15  Nivel de Trabajo              62768 non-null  int64\n",
      " 16  Tamaño de Empresa             62768 non-null  int64\n",
      " 17  Meses desde el último evento  62768 non-null  int64\n",
      " 18  Trabajo Remoto                62768 non-null  int64\n",
      " 19  Oportunidades de Liderazgo    62768 non-null  int64\n",
      " 20  Oportunidades de Innovación   62768 non-null  int64\n",
      " 21  Reputación de la Empresa      62768 non-null  int64\n",
      " 22  Reconocimiento a Empleado     62768 non-null  int64\n",
      " 23  Deserción                     62768 non-null  int64\n",
      "dtypes: int64(24)\n",
      "memory usage: 11.5 MB\n"
     ]
    }
   ],
   "source": [
    "import pandas as pd\n",
    "import matplotlib.pyplot as plt\n",
    "import seaborn as sns\n",
    "\n",
    "archivo = 'archivo_int64.csv'\n",
    "df = pd.read_csv(archivo)\n",
    "df.info()"
   ]
  },
  {
   "cell_type": "code",
   "execution_count": 3,
   "metadata": {},
   "outputs": [],
   "source": [
    "import pandas as pd\n",
    "from sklearn.preprocessing import MinMaxScaler, StandardScaler\n",
    "\n",
    "# Cargar el archivo CSV\n",
    "file_path = 'archivo_int64.csv'\n",
    "df = pd.read_csv(file_path)\n",
    "\n",
    "# Identificar las columnas numéricas, excluyendo columnas categóricas y de ID\n",
    "numerical_cols = df.select_dtypes(include=['int64', 'float64']).columns.drop(['ID Empleado'])\n",
    "\n",
    "# Crear escaladores para normalización y estandarización\n",
    "scaler_norm = MinMaxScaler()\n",
    "scaler_std = StandardScaler()\n",
    "\n",
    "# Aplicar normalización y estandarización a las columnas numéricas\n",
    "df_norm = pd.DataFrame(scaler_norm.fit_transform(df[numerical_cols]), columns=[col + \"+norm\" for col in numerical_cols])\n",
    "df_std = pd.DataFrame(scaler_std.fit_transform(df[numerical_cols]), columns=[col + \"+estand\" for col in numerical_cols])\n",
    "\n",
    "# Concatenar columnas originales con las nuevas columnas normalizadas y estandarizadas\n",
    "df_final = pd.concat([df, df_norm, df_std], axis=1)\n",
    "\n",
    "# Guardar el resultado en un nuevo archivo si es necesario\n",
    "df_final.to_csv('archivo_estandarizado_normalizado.csv', index=False)\n"
   ]
  },
  {
   "cell_type": "code",
   "execution_count": 8,
   "metadata": {},
   "outputs": [
    {
     "data": {
      "text/plain": [
       "count    62768.000000\n",
       "mean         0.517956\n",
       "std          0.254054\n",
       "min          0.000000\n",
       "25%          0.309524\n",
       "50%          0.500000\n",
       "75%          0.738095\n",
       "max          1.000000\n",
       "Name: Edad+norm, dtype: float64"
      ]
     },
     "execution_count": 8,
     "metadata": {},
     "output_type": "execute_result"
    }
   ],
   "source": [
    "import pandas as pd\n",
    "import matplotlib.pyplot as plt\n",
    "import seaborn as sns\n",
    "\n",
    "archivo = 'archivo_estandarizado_normalizado.csv'\n",
    "df = pd.read_csv(archivo)\n",
    "df['Edad+norm'].describe()\n"
   ]
  }
 ],
 "metadata": {
  "kernelspec": {
   "display_name": "myenv",
   "language": "python",
   "name": "python3"
  },
  "language_info": {
   "codemirror_mode": {
    "name": "ipython",
    "version": 3
   },
   "file_extension": ".py",
   "mimetype": "text/x-python",
   "name": "python",
   "nbconvert_exporter": "python",
   "pygments_lexer": "ipython3",
   "version": "3.11.1"
  }
 },
 "nbformat": 4,
 "nbformat_minor": 2
}
